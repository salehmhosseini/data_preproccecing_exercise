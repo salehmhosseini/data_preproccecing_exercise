{
 "cells": [
  {
   "cell_type": "markdown",
   "id": "ec682167",
   "metadata": {},
   "source": [
    "# Train file "
   ]
  },
  {
   "cell_type": "markdown",
   "id": "62262258",
   "metadata": {
    "heading_collapsed": true
   },
   "source": [
    "## importing the libraries"
   ]
  },
  {
   "cell_type": "code",
   "execution_count": 257,
   "id": "d138fc25",
   "metadata": {
    "hidden": true
   },
   "outputs": [],
   "source": [
    "import numpy as np\n",
    "import pandas as pd\n",
    "import matplotlib.pyplot as plt "
   ]
  },
  {
   "cell_type": "markdown",
   "id": "d8239fec",
   "metadata": {
    "heading_collapsed": true
   },
   "source": [
    "## creat a sries"
   ]
  },
  {
   "cell_type": "code",
   "execution_count": 258,
   "id": "8b2df8d6",
   "metadata": {
    "hidden": true
   },
   "outputs": [
    {
     "name": "stdout",
     "output_type": "stream",
     "text": [
      "0    a\n",
      "1    b\n",
      "2    c\n",
      "dtype: object\n"
     ]
    }
   ],
   "source": [
    "a = [ \"a\" , \"b\" , \"c\"]\n",
    "series = pd.Series( a , index =[0 , 1  , 2])\n",
    "print(series)"
   ]
  },
  {
   "cell_type": "markdown",
   "id": "9c7d12aa",
   "metadata": {
    "heading_collapsed": true
   },
   "source": [
    "## creat data frame "
   ]
  },
  {
   "cell_type": "code",
   "execution_count": 259,
   "id": "34e155bc",
   "metadata": {
    "hidden": true
   },
   "outputs": [
    {
     "name": "stdout",
     "output_type": "stream",
     "text": [
      "     name  Age  Gender\n",
      "A   Saleh   19    male\n",
      "B   Pasha   18  nmale \n",
      "C  Mehran   19    male\n"
     ]
    }
   ],
   "source": [
    "test_dataset = {\n",
    "    'name' : [\"Saleh\" , \"Pasha\" , \"Mehran\"] ,\n",
    "    'Age':[19 , 18 , 19] ,\n",
    "    'Gender' : [\"male\" , \"nmale \" , \"male\"]\n",
    "}\n",
    "dataFrame = pd.DataFrame(test_dataset , index=['A' , 'B' , 'C'])\n",
    "print(dataFrame)"
   ]
  },
  {
   "cell_type": "code",
   "execution_count": 260,
   "id": "f8fae010",
   "metadata": {
    "hidden": true
   },
   "outputs": [
    {
     "name": "stdout",
     "output_type": "stream",
     "text": [
      "    name  Age  Gender\n",
      "A  Saleh   19    male\n",
      "B  Pasha   18  nmale \n",
      "***************\n",
      "name      Saleh\n",
      "Age          19\n",
      "Gender     male\n",
      "Name: A, dtype: object\n",
      "***************\n",
      "19\n",
      "***************\n",
      "The maximum number of rows that can show is : 90\n",
      "The new maximum rows is :  90\n"
     ]
    }
   ],
   "source": [
    "# show a specific row by loc (locate) .\n",
    "print(dataFrame.loc[['A' , 'B']])\n",
    "print(\"***************\")\n",
    "print(dataFrame.loc['A'])\n",
    "print(\"***************\")\n",
    "print(dataFrame.loc['A' ,'Age'])\n",
    "print(\"***************\")\n",
    "\n",
    "# show the maximum number of rows that my system can showed\n",
    "print(\"The maximum number of rows that can show is :\" , pd.options.display.max_rows)\n",
    "# change the maximum rows number : \n",
    "pd.options.display.max_rows = 90\n",
    "print(\"The new maximum rows is : \" , pd.options.display.max_rows)"
   ]
  },
  {
   "cell_type": "code",
   "execution_count": 261,
   "id": "0ab19be5",
   "metadata": {
    "hidden": true
   },
   "outputs": [
    {
     "name": "stdout",
     "output_type": "stream",
     "text": [
      "     name  Age  Gender\n",
      "A   Saleh   19    male\n",
      "B   Pasha   18  nmale \n",
      "C  Mehran   19    male\n",
      "\n",
      "**********************\n",
      "\n",
      "     name  Age  Gender\n",
      "B   Pasha   18  nmale \n",
      "C  Mehran   19    male\n",
      "**********************\n",
      "<class 'pandas.core.frame.DataFrame'>\n",
      "Index: 3 entries, A to C\n",
      "Data columns (total 3 columns):\n",
      " #   Column  Non-Null Count  Dtype \n",
      "---  ------  --------------  ----- \n",
      " 0   name    3 non-null      object\n",
      " 1   Age     3 non-null      int64 \n",
      " 2   Gender  3 non-null      object\n",
      "dtypes: int64(1), object(2)\n",
      "memory usage: 204.0+ bytes\n",
      "None\n"
     ]
    }
   ],
   "source": [
    "# head and tail :\n",
    "# by head we can see the head of elements in data frame\n",
    "# by tail we can see the tail of data frame\n",
    "print(dataFrame.head(5))\n",
    "print(\"\\n**********************\\n\")\n",
    "print(dataFrame.tail(2))\n",
    "\n",
    "# info method is the object of data frame that return some information about data frame\n",
    "print(\"**********************\")\n",
    "print(dataFrame.info())"
   ]
  },
  {
   "cell_type": "markdown",
   "id": "d20d8a61",
   "metadata": {
    "heading_collapsed": true
   },
   "source": [
    "## read and print dataset"
   ]
  },
  {
   "cell_type": "code",
   "execution_count": 262,
   "id": "bcbf70a3",
   "metadata": {
    "hidden": true
   },
   "outputs": [],
   "source": [
    "df = pd.read_csv('Data.csv')\n",
    "\n",
    "features = df.iloc[ : , :  -1].values\n",
    "\n",
    "target = df.iloc [ : , -1].values \n"
   ]
  },
  {
   "cell_type": "code",
   "execution_count": 263,
   "id": "99f23d1b",
   "metadata": {
    "hidden": true
   },
   "outputs": [
    {
     "name": "stdout",
     "output_type": "stream",
     "text": [
      "The head of dataset : \n",
      "\n",
      "\n",
      "   Country   Age   Salary Purchased\n",
      "0   France  44.0  72000.0        No\n",
      "1    Spain  27.0  48000.0       Yes\n",
      "2  Germany  30.0  54000.0        No\n",
      "3    Spain  38.0  61000.0        No\n",
      "4  Germany  40.0      NaN       Yes \n",
      "\n",
      "\n",
      "the features is : \n",
      "\n",
      "  [['France' 44.0 72000.0]\n",
      " ['Spain' 27.0 48000.0]\n",
      " ['Germany' 30.0 54000.0]\n",
      " ['Spain' 38.0 61000.0]\n",
      " ['Germany' 40.0 nan]\n",
      " ['France' 35.0 58000.0]\n",
      " ['Spain' nan 52000.0]\n",
      " ['France' 48.0 79000.0]\n",
      " ['Germany' 50.0 83000.0]\n",
      " ['France' 37.0 67000.0]] \n",
      "\n",
      "\n",
      "The target is : \n",
      "\n",
      "   ['No' 'Yes' 'No' 'No' 'Yes' 'Yes' 'No' 'Yes' 'No' 'Yes']\n"
     ]
    }
   ],
   "source": [
    "# show the head of dataaset \n",
    "print(\"The head of dataset : \\n\\n\")\n",
    "print(df.head(5), \"\\n\\n\")\n",
    "# print features and target of dataset\n",
    "print(\"the features is : \\n\\n \" , features , \"\\n\\n\")\n",
    "print(\"The target is : \\n\\n  \" , target)"
   ]
  },
  {
   "cell_type": "code",
   "execution_count": 264,
   "id": "316c6e17",
   "metadata": {
    "hidden": true
   },
   "outputs": [
    {
     "name": "stdout",
     "output_type": "stream",
     "text": [
      "   Country   Age   Salary Purchased\n",
      "0   France  44.0  72000.0        No\n",
      "1    Spain  27.0  48000.0       Yes\n",
      "2  Germany  30.0  54000.0        No\n",
      "3    Spain  38.0  61000.0        No\n",
      "4  Germany  40.0      NaN       Yes\n",
      "5   France  35.0  58000.0       Yes\n",
      "6    Spain   NaN  52000.0        No\n",
      "7   France  48.0  79000.0       Yes\n",
      "8  Germany  50.0  83000.0        No\n",
      "9   France  37.0  67000.0       Yes\n"
     ]
    }
   ],
   "source": [
    "print(df)"
   ]
  },
  {
   "cell_type": "markdown",
   "id": "eb4c0abc",
   "metadata": {
    "heading_collapsed": true
   },
   "source": [
    "## Data cleaning"
   ]
  },
  {
   "cell_type": "markdown",
   "id": "acb59bf5",
   "metadata": {
    "heading_collapsed": true,
    "hidden": true
   },
   "source": [
    "### how many missing value do we have?"
   ]
  },
  {
   "cell_type": "code",
   "execution_count": 265,
   "id": "1335ed34",
   "metadata": {
    "hidden": true
   },
   "outputs": [
    {
     "name": "stdout",
     "output_type": "stream",
     "text": [
      "Country      0\n",
      "Age          1\n",
      "Salary       1\n",
      "Purchased    0\n",
      "dtype: int64\n",
      "40\n",
      "2\n",
      "5.0\n"
     ]
    }
   ],
   "source": [
    "mis_show = dataset.isnull().sum()\n",
    "print(mis_show)\n",
    "# how many total cells do we have?\n",
    "cell_count = np.product(df.shape)\n",
    "print(cell_count)\n",
    "# how many missing values do we have?\n",
    "mis_count = mis_show.sum()\n",
    "print(mis_count)\n",
    "# the percent of missing values : \n",
    "print(100 * mis_count/cell_count)\n",
    "\n"
   ]
  },
  {
   "cell_type": "markdown",
   "id": "0fa7e396",
   "metadata": {
    "heading_collapsed": true,
    "hidden": true
   },
   "source": [
    "### taking care of missing values"
   ]
  },
  {
   "cell_type": "markdown",
   "id": "b4f1e95f",
   "metadata": {
    "heading_collapsed": true,
    "hidden": true
   },
   "source": [
    "#### strategy 1"
   ]
  },
  {
   "cell_type": "code",
   "execution_count": 266,
   "id": "63f46c81",
   "metadata": {
    "hidden": true
   },
   "outputs": [
    {
     "name": "stdout",
     "output_type": "stream",
     "text": [
      "[['France' 44.0 72000.0]\n",
      " ['Spain' 27.0 48000.0]\n",
      " ['Germany' 30.0 54000.0]\n",
      " ['Spain' 38.0 61000.0]\n",
      " ['Germany' 40.0 63777.77777777778]\n",
      " ['France' 35.0 58000.0]\n",
      " ['Spain' 38.77777777777778 52000.0]\n",
      " ['France' 48.0 79000.0]\n",
      " ['Germany' 50.0 83000.0]\n",
      " ['France' 37.0 67000.0]]\n"
     ]
    }
   ],
   "source": [
    "from sklearn.impute import SimpleImputer as simim\n",
    "imputer = simim(missing_values = np.nan , strategy = \"mean\")\n",
    "# imputer.fit(features[:, 1:3])\n",
    "# features[:, 1:3] = imputer.transform(features[:, 1:3])\n",
    "features[:, 1:3] = imputer.fit_transform(features[:, 1:3])\n",
    "print(features)\n"
   ]
  },
  {
   "cell_type": "markdown",
   "id": "46da38bf",
   "metadata": {
    "heading_collapsed": true,
    "hidden": true
   },
   "source": [
    "#### strategy 2"
   ]
  },
  {
   "cell_type": "code",
   "execution_count": null,
   "id": "41aea099",
   "metadata": {
    "hidden": true
   },
   "outputs": [],
   "source": []
  },
  {
   "cell_type": "markdown",
   "id": "af1a445d",
   "metadata": {
    "heading_collapsed": true,
    "hidden": true
   },
   "source": [
    "##### dropna"
   ]
  },
  {
   "cell_type": "code",
   "execution_count": 267,
   "id": "d2b7240d",
   "metadata": {
    "hidden": true
   },
   "outputs": [
    {
     "name": "stdout",
     "output_type": "stream",
     "text": [
      "   Country   Age   Salary Purchased\n",
      "0   France  44.0  72000.0        No\n",
      "1    Spain  27.0  48000.0       Yes\n",
      "2  Germany  30.0  54000.0        No\n",
      "3    Spain  38.0  61000.0        No\n",
      "5   France  35.0  58000.0       Yes\n",
      "7   France  48.0  79000.0       Yes\n",
      "8  Germany  50.0  83000.0        No\n",
      "9   France  37.0  67000.0       Yes\n",
      "\n",
      "\n",
      "***********************\n",
      "   Country   Age   Salary Purchased\n",
      "0   France  44.0  72000.0        No\n",
      "1    Spain  27.0  48000.0       Yes\n",
      "2  Germany  30.0  54000.0        No\n",
      "3    Spain  38.0  61000.0        No\n",
      "4  Germany  40.0      NaN       Yes\n",
      "5   France  35.0  58000.0       Yes\n",
      "7   France  48.0  79000.0       Yes\n",
      "8  Germany  50.0  83000.0        No\n",
      "9   France  37.0  67000.0       Yes\n"
     ]
    },
    {
     "data": {
      "text/html": [
       "<div>\n",
       "<style scoped>\n",
       "    .dataframe tbody tr th:only-of-type {\n",
       "        vertical-align: middle;\n",
       "    }\n",
       "\n",
       "    .dataframe tbody tr th {\n",
       "        vertical-align: top;\n",
       "    }\n",
       "\n",
       "    .dataframe thead th {\n",
       "        text-align: right;\n",
       "    }\n",
       "</style>\n",
       "<table border=\"1\" class=\"dataframe\">\n",
       "  <thead>\n",
       "    <tr style=\"text-align: right;\">\n",
       "      <th></th>\n",
       "      <th>Country</th>\n",
       "      <th>Age</th>\n",
       "      <th>Salary</th>\n",
       "      <th>Purchased</th>\n",
       "    </tr>\n",
       "  </thead>\n",
       "  <tbody>\n",
       "    <tr>\n",
       "      <th>2</th>\n",
       "      <td>Germany</td>\n",
       "      <td>30.0</td>\n",
       "      <td>54000.0</td>\n",
       "      <td>No</td>\n",
       "    </tr>\n",
       "    <tr>\n",
       "      <th>3</th>\n",
       "      <td>Spain</td>\n",
       "      <td>38.0</td>\n",
       "      <td>61000.0</td>\n",
       "      <td>No</td>\n",
       "    </tr>\n",
       "    <tr>\n",
       "      <th>4</th>\n",
       "      <td>Germany</td>\n",
       "      <td>40.0</td>\n",
       "      <td>NaN</td>\n",
       "      <td>Yes</td>\n",
       "    </tr>\n",
       "    <tr>\n",
       "      <th>5</th>\n",
       "      <td>France</td>\n",
       "      <td>35.0</td>\n",
       "      <td>58000.0</td>\n",
       "      <td>Yes</td>\n",
       "    </tr>\n",
       "    <tr>\n",
       "      <th>6</th>\n",
       "      <td>Spain</td>\n",
       "      <td>NaN</td>\n",
       "      <td>52000.0</td>\n",
       "      <td>No</td>\n",
       "    </tr>\n",
       "    <tr>\n",
       "      <th>7</th>\n",
       "      <td>France</td>\n",
       "      <td>48.0</td>\n",
       "      <td>79000.0</td>\n",
       "      <td>Yes</td>\n",
       "    </tr>\n",
       "    <tr>\n",
       "      <th>8</th>\n",
       "      <td>Germany</td>\n",
       "      <td>50.0</td>\n",
       "      <td>83000.0</td>\n",
       "      <td>No</td>\n",
       "    </tr>\n",
       "    <tr>\n",
       "      <th>9</th>\n",
       "      <td>France</td>\n",
       "      <td>37.0</td>\n",
       "      <td>67000.0</td>\n",
       "      <td>Yes</td>\n",
       "    </tr>\n",
       "  </tbody>\n",
       "</table>\n",
       "</div>"
      ],
      "text/plain": [
       "   Country   Age   Salary Purchased\n",
       "2  Germany  30.0  54000.0        No\n",
       "3    Spain  38.0  61000.0        No\n",
       "4  Germany  40.0      NaN       Yes\n",
       "5   France  35.0  58000.0       Yes\n",
       "6    Spain   NaN  52000.0        No\n",
       "7   France  48.0  79000.0       Yes\n",
       "8  Germany  50.0  83000.0        No\n",
       "9   France  37.0  67000.0       Yes"
      ]
     },
     "execution_count": 267,
     "metadata": {},
     "output_type": "execute_result"
    }
   ],
   "source": [
    "# if we call the dropna : the nan rows is removing\n",
    "print(df.dropna())\n",
    "# df.dropna(inplace = True) --> this removing has be called by reference and the new df be replaced by previous\n",
    "print(\"\\n\\n***********************\")\n",
    "# dropna a specific rows \n",
    "print(df.dropna(subset = 'Age' , inplace = False))\n",
    "# drop a specifics rows of the data frame by drop method\n",
    "df.drop([0 , 1])"
   ]
  },
  {
   "cell_type": "markdown",
   "id": "816a3dc6",
   "metadata": {
    "heading_collapsed": true,
    "hidden": true
   },
   "source": [
    "##### fillna"
   ]
  },
  {
   "cell_type": "markdown",
   "id": "35d73ef4",
   "metadata": {
    "heading_collapsed": true,
    "hidden": true
   },
   "source": [
    "##### fill wherever"
   ]
  },
  {
   "cell_type": "code",
   "execution_count": 268,
   "id": "9513e1b1",
   "metadata": {
    "hidden": true
   },
   "outputs": [
    {
     "name": "stdout",
     "output_type": "stream",
     "text": [
      "   Country   Age   Salary Purchased\n",
      "0   France  44.0  72000.0        No\n",
      "1    Spain  27.0  48000.0       Yes\n",
      "2  Germany  30.0  54000.0        No\n",
      "3    Spain  38.0  61000.0        No\n",
      "4  Germany  40.0     22.0       Yes\n",
      "5   France  35.0  58000.0       Yes\n",
      "6    Spain  22.0  52000.0        No\n",
      "7   France  48.0  79000.0       Yes\n",
      "8  Germany  50.0  83000.0        No\n",
      "9   France  37.0  67000.0       Yes\n"
     ]
    }
   ],
   "source": [
    "# we can call the filna , to fill the nan cells by : \n",
    "# 1 _ a specific value\n",
    "# 2_ mean , mode , median \n",
    "# (1)\n",
    "print(df.fillna(22 , inplace = False))"
   ]
  },
  {
   "cell_type": "code",
   "execution_count": 269,
   "id": "19f1f43c",
   "metadata": {
    "hidden": true
   },
   "outputs": [
    {
     "name": "stdout",
     "output_type": "stream",
     "text": [
      "mean is : 38.77777777777778\n",
      "   Country        Age        Salary Purchased\n",
      "0   France  44.000000  72000.000000        No\n",
      "1    Spain  27.000000  48000.000000       Yes\n",
      "2  Germany  30.000000  54000.000000        No\n",
      "3    Spain  38.000000  61000.000000        No\n",
      "4  Germany  40.000000     38.777778       Yes\n",
      "5   France  35.000000  58000.000000       Yes\n",
      "6    Spain  38.777778  52000.000000        No\n",
      "7   France  48.000000  79000.000000       Yes\n",
      "8  Germany  50.000000  83000.000000        No\n",
      "9   France  37.000000  67000.000000       Yes\n",
      "\n",
      "\n",
      "************************\n",
      "\n",
      "\n",
      "the median is : 38.0\n",
      "   Country   Age   Salary Purchased\n",
      "0   France  44.0  72000.0        No\n",
      "1    Spain  27.0  48000.0       Yes\n",
      "2  Germany  30.0  54000.0        No\n",
      "3    Spain  38.0  61000.0        No\n",
      "4  Germany  40.0     38.0       Yes\n",
      "5   France  35.0  58000.0       Yes\n",
      "6    Spain  38.0  52000.0        No\n",
      "7   France  48.0  79000.0       Yes\n",
      "8  Germany  50.0  83000.0        No\n",
      "9   France  37.0  67000.0       Yes\n",
      "\n",
      "\n",
      "************************\n",
      "\n",
      "\n",
      "The mode is :  27.0\n",
      "   Country   Age   Salary Purchased\n",
      "0   France  44.0  72000.0        No\n",
      "1    Spain  27.0  48000.0       Yes\n",
      "2  Germany  30.0  54000.0        No\n",
      "3    Spain  38.0  61000.0        No\n",
      "4  Germany  40.0     27.0       Yes\n",
      "5   France  35.0  58000.0       Yes\n",
      "6    Spain  27.0  52000.0        No\n",
      "7   France  48.0  79000.0       Yes\n",
      "8  Germany  50.0  83000.0        No\n",
      "9   France  37.0  67000.0       Yes\n"
     ]
    }
   ],
   "source": [
    "# (2)\n",
    "mean = df['Age'].mean()\n",
    "print(\"mean is :\",  mean)\n",
    "print(df.fillna(mean , inplace = False))\n",
    "print(\"\\n\\n************************\\n\\n\")\n",
    "\n",
    "median = df['Age'].median()\n",
    "print(\"the median is :\" , median)\n",
    "print(df.fillna(median , inplace = False))\n",
    "print(\"\\n\\n************************\\n\\n\")\n",
    "\n",
    "\n",
    "mode = df['Age'].mode()[0] # the [0] means if we dont have mode , the minimum value of ages is place as mode . if we hade wrote[1] then , the second minimum value hade be placed as the mode .\n",
    "print(\"The mode is : \"  , mode)\n",
    "print(df.fillna(mode , inplace = False))\n",
    "\n"
   ]
  },
  {
   "cell_type": "markdown",
   "id": "522e0af9",
   "metadata": {
    "heading_collapsed": true,
    "hidden": true
   },
   "source": [
    "##### fill the specific columns "
   ]
  },
  {
   "cell_type": "code",
   "execution_count": 270,
   "id": "d951b8ca",
   "metadata": {
    "hidden": true
   },
   "outputs": [
    {
     "name": "stdout",
     "output_type": "stream",
     "text": [
      "The mean of the salaries is :  63777.77777777778\n",
      "0    72000.000000\n",
      "1    48000.000000\n",
      "2    54000.000000\n",
      "3    61000.000000\n",
      "4    63777.777778\n",
      "5    58000.000000\n",
      "6    52000.000000\n",
      "7    79000.000000\n",
      "8    83000.000000\n",
      "9    67000.000000\n",
      "Name: Salary, dtype: float64\n"
     ]
    }
   ],
   "source": [
    "mean = df['Salary'].mean()\n",
    "print(\"The mean of the salaries is : \" , mean)\n",
    "print(df['Salary'].fillna(mean , inplace = False))\n"
   ]
  },
  {
   "cell_type": "markdown",
   "id": "4b64cd5a",
   "metadata": {
    "heading_collapsed": true,
    "hidden": true
   },
   "source": [
    "#### Duplicate rows"
   ]
  },
  {
   "cell_type": "code",
   "execution_count": 271,
   "id": "f88aa1a7",
   "metadata": {
    "hidden": true
   },
   "outputs": [
    {
     "name": "stdout",
     "output_type": "stream",
     "text": [
      "0    False\n",
      "1    False\n",
      "2    False\n",
      "3    False\n",
      "4    False\n",
      "5    False\n",
      "6    False\n",
      "7    False\n",
      "8    False\n",
      "9    False\n",
      "dtype: bool\n",
      "\n",
      "\n",
      "*********************\n"
     ]
    },
    {
     "data": {
      "text/html": [
       "<div>\n",
       "<style scoped>\n",
       "    .dataframe tbody tr th:only-of-type {\n",
       "        vertical-align: middle;\n",
       "    }\n",
       "\n",
       "    .dataframe tbody tr th {\n",
       "        vertical-align: top;\n",
       "    }\n",
       "\n",
       "    .dataframe thead th {\n",
       "        text-align: right;\n",
       "    }\n",
       "</style>\n",
       "<table border=\"1\" class=\"dataframe\">\n",
       "  <thead>\n",
       "    <tr style=\"text-align: right;\">\n",
       "      <th></th>\n",
       "      <th>Country</th>\n",
       "      <th>Age</th>\n",
       "      <th>Salary</th>\n",
       "      <th>Purchased</th>\n",
       "    </tr>\n",
       "  </thead>\n",
       "  <tbody>\n",
       "    <tr>\n",
       "      <th>0</th>\n",
       "      <td>France</td>\n",
       "      <td>44.0</td>\n",
       "      <td>72000.0</td>\n",
       "      <td>No</td>\n",
       "    </tr>\n",
       "    <tr>\n",
       "      <th>1</th>\n",
       "      <td>Spain</td>\n",
       "      <td>27.0</td>\n",
       "      <td>48000.0</td>\n",
       "      <td>Yes</td>\n",
       "    </tr>\n",
       "    <tr>\n",
       "      <th>2</th>\n",
       "      <td>Germany</td>\n",
       "      <td>30.0</td>\n",
       "      <td>54000.0</td>\n",
       "      <td>No</td>\n",
       "    </tr>\n",
       "    <tr>\n",
       "      <th>3</th>\n",
       "      <td>Spain</td>\n",
       "      <td>38.0</td>\n",
       "      <td>61000.0</td>\n",
       "      <td>No</td>\n",
       "    </tr>\n",
       "    <tr>\n",
       "      <th>4</th>\n",
       "      <td>Germany</td>\n",
       "      <td>40.0</td>\n",
       "      <td>NaN</td>\n",
       "      <td>Yes</td>\n",
       "    </tr>\n",
       "    <tr>\n",
       "      <th>5</th>\n",
       "      <td>France</td>\n",
       "      <td>35.0</td>\n",
       "      <td>58000.0</td>\n",
       "      <td>Yes</td>\n",
       "    </tr>\n",
       "    <tr>\n",
       "      <th>6</th>\n",
       "      <td>Spain</td>\n",
       "      <td>NaN</td>\n",
       "      <td>52000.0</td>\n",
       "      <td>No</td>\n",
       "    </tr>\n",
       "    <tr>\n",
       "      <th>7</th>\n",
       "      <td>France</td>\n",
       "      <td>48.0</td>\n",
       "      <td>79000.0</td>\n",
       "      <td>Yes</td>\n",
       "    </tr>\n",
       "    <tr>\n",
       "      <th>8</th>\n",
       "      <td>Germany</td>\n",
       "      <td>50.0</td>\n",
       "      <td>83000.0</td>\n",
       "      <td>No</td>\n",
       "    </tr>\n",
       "    <tr>\n",
       "      <th>9</th>\n",
       "      <td>France</td>\n",
       "      <td>37.0</td>\n",
       "      <td>67000.0</td>\n",
       "      <td>Yes</td>\n",
       "    </tr>\n",
       "  </tbody>\n",
       "</table>\n",
       "</div>"
      ],
      "text/plain": [
       "   Country   Age   Salary Purchased\n",
       "0   France  44.0  72000.0        No\n",
       "1    Spain  27.0  48000.0       Yes\n",
       "2  Germany  30.0  54000.0        No\n",
       "3    Spain  38.0  61000.0        No\n",
       "4  Germany  40.0      NaN       Yes\n",
       "5   France  35.0  58000.0       Yes\n",
       "6    Spain   NaN  52000.0        No\n",
       "7   France  48.0  79000.0       Yes\n",
       "8  Germany  50.0  83000.0        No\n",
       "9   France  37.0  67000.0       Yes"
      ]
     },
     "execution_count": 271,
     "metadata": {},
     "output_type": "execute_result"
    }
   ],
   "source": [
    "# the duplicate methode tell us that wich rows duplicate (write more than one time)\n",
    "print(df.duplicated())\n",
    "print(\"\\n\\n*********************\")\n",
    "# if we wanna to remove a duplicate row we should be use drop_duplicates method.\n",
    "(df.drop_duplicates(inplace = False))"
   ]
  },
  {
   "cell_type": "markdown",
   "id": "3ac09991",
   "metadata": {
    "hidden": true
   },
   "source": [
    "#### Correlation"
   ]
  },
  {
   "cell_type": "code",
   "execution_count": 272,
   "id": "01d1a29a",
   "metadata": {
    "hidden": true
   },
   "outputs": [
    {
     "data": {
      "text/html": [
       "<div>\n",
       "<style scoped>\n",
       "    .dataframe tbody tr th:only-of-type {\n",
       "        vertical-align: middle;\n",
       "    }\n",
       "\n",
       "    .dataframe tbody tr th {\n",
       "        vertical-align: top;\n",
       "    }\n",
       "\n",
       "    .dataframe thead th {\n",
       "        text-align: right;\n",
       "    }\n",
       "</style>\n",
       "<table border=\"1\" class=\"dataframe\">\n",
       "  <thead>\n",
       "    <tr style=\"text-align: right;\">\n",
       "      <th></th>\n",
       "      <th>Age</th>\n",
       "      <th>Salary</th>\n",
       "    </tr>\n",
       "  </thead>\n",
       "  <tbody>\n",
       "    <tr>\n",
       "      <th>Age</th>\n",
       "      <td>1.000000</td>\n",
       "      <td>0.982495</td>\n",
       "    </tr>\n",
       "    <tr>\n",
       "      <th>Salary</th>\n",
       "      <td>0.982495</td>\n",
       "      <td>1.000000</td>\n",
       "    </tr>\n",
       "  </tbody>\n",
       "</table>\n",
       "</div>"
      ],
      "text/plain": [
       "             Age    Salary\n",
       "Age     1.000000  0.982495\n",
       "Salary  0.982495  1.000000"
      ]
     },
     "execution_count": 272,
     "metadata": {},
     "output_type": "execute_result"
    }
   ],
   "source": [
    "# The correlation method return us a table . that has numbers between 1 and -1\n",
    "# The 1 and -1 means perfect correlation. \n",
    "# The 0 is the worst correlation.\n",
    "# around 0.6 and -0.6 means good correlation .\n",
    "df.corr()"
   ]
  }
 ],
 "metadata": {
  "kernelspec": {
   "display_name": "Python 3 (ipykernel)",
   "language": "python",
   "name": "python3"
  },
  "language_info": {
   "codemirror_mode": {
    "name": "ipython",
    "version": 3
   },
   "file_extension": ".py",
   "mimetype": "text/x-python",
   "name": "python",
   "nbconvert_exporter": "python",
   "pygments_lexer": "ipython3",
   "version": "3.10.5"
  }
 },
 "nbformat": 4,
 "nbformat_minor": 5
}
