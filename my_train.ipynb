{
 "cells": [
  {
   "cell_type": "markdown",
   "id": "4553e593",
   "metadata": {},
   "source": [
    "# <font color='purple'>Train file "
   ]
  },
  {
   "cell_type": "markdown",
   "id": "68b1ec40",
   "metadata": {},
   "source": [
    "## importing the libraries"
   ]
  },
  {
   "cell_type": "code",
   "execution_count": 4,
   "id": "dbeb6f0d",
   "metadata": {},
   "outputs": [],
   "source": [
    "import numpy as np\n",
    "import pandas as pd\n",
    "import matplotlib.pyplot as plt "
   ]
  },
  {
   "cell_type": "markdown",
   "id": "91de7db0",
   "metadata": {},
   "source": [
    "## creat a sries"
   ]
  },
  {
   "cell_type": "code",
   "execution_count": 5,
   "id": "6d611e77",
   "metadata": {},
   "outputs": [
    {
     "name": "stdout",
     "output_type": "stream",
     "text": [
      "0    a\n",
      "1    b\n",
      "2    c\n",
      "dtype: object\n"
     ]
    }
   ],
   "source": [
    "a = [ \"a\" , \"b\" , \"c\"]\n",
    "series = pd.Series( a , index =[0 , 1  , 2])\n",
    "print(series)"
   ]
  },
  {
   "cell_type": "markdown",
   "id": "9fc70fda",
   "metadata": {},
   "source": [
    "## creat data frame "
   ]
  },
  {
   "cell_type": "code",
   "execution_count": 6,
   "id": "f25fe279",
   "metadata": {},
   "outputs": [
    {
     "name": "stdout",
     "output_type": "stream",
     "text": [
      "     name  Age  Gender\n",
      "A   Saleh   19    male\n",
      "B   Pasha   18  nmale \n",
      "C  Mehran   19    male\n"
     ]
    }
   ],
   "source": [
    "test_dataset = {\n",
    "    'name' : [\"Saleh\" , \"Pasha\" , \"Mehran\"] ,\n",
    "    'Age':[19 , 18 , 19] ,\n",
    "    'Gender' : [\"male\" , \"nmale \" , \"male\"]\n",
    "}\n",
    "dataFrame = pd.DataFrame(test_dataset , index=['A' , 'B' , 'C'])\n",
    "print(dataFrame)"
   ]
  },
  {
   "cell_type": "code",
   "execution_count": 7,
   "id": "c29881d6",
   "metadata": {},
   "outputs": [
    {
     "name": "stdout",
     "output_type": "stream",
     "text": [
      "    name  Age  Gender\n",
      "A  Saleh   19    male\n",
      "B  Pasha   18  nmale \n",
      "***************\n",
      "name      Saleh\n",
      "Age          19\n",
      "Gender     male\n",
      "Name: A, dtype: object\n",
      "***************\n",
      "19\n",
      "***************\n",
      "The maximum number of rows that can show is : 60\n",
      "The new maximum rows is :  90\n"
     ]
    }
   ],
   "source": [
    "# show a specific row by loc (locate) .\n",
    "print(dataFrame.loc[['A' , 'B']])\n",
    "print(\"***************\")\n",
    "print(dataFrame.loc['A'])\n",
    "print(\"***************\")\n",
    "print(dataFrame.loc['A' ,'Age'])\n",
    "print(\"***************\")\n",
    "\n",
    "# show the maximum number of rows that my system can showed\n",
    "print(\"The maximum number of rows that can show is :\" , pd.options.display.max_rows)\n",
    "# change the maximum rows number : \n",
    "pd.options.display.max_rows = 90\n",
    "print(\"The new maximum rows is : \" , pd.options.display.max_rows)"
   ]
  },
  {
   "cell_type": "code",
   "execution_count": 8,
   "id": "2a47746e",
   "metadata": {},
   "outputs": [
    {
     "name": "stdout",
     "output_type": "stream",
     "text": [
      "     name  Age  Gender\n",
      "A   Saleh   19    male\n",
      "B   Pasha   18  nmale \n",
      "C  Mehran   19    male\n",
      "\n",
      "**********************\n",
      "\n",
      "     name  Age  Gender\n",
      "B   Pasha   18  nmale \n",
      "C  Mehran   19    male\n",
      "**********************\n",
      "<class 'pandas.core.frame.DataFrame'>\n",
      "Index: 3 entries, A to C\n",
      "Data columns (total 3 columns):\n",
      " #   Column  Non-Null Count  Dtype \n",
      "---  ------  --------------  ----- \n",
      " 0   name    3 non-null      object\n",
      " 1   Age     3 non-null      int64 \n",
      " 2   Gender  3 non-null      object\n",
      "dtypes: int64(1), object(2)\n",
      "memory usage: 204.0+ bytes\n",
      "None\n"
     ]
    }
   ],
   "source": [
    "# head and tail :\n",
    "# by head we can see the head of elements in data frame\n",
    "# by tail we can see the tail of data frame\n",
    "print(dataFrame.head(5))\n",
    "print(\"\\n**********************\\n\")\n",
    "print(dataFrame.tail(2))\n",
    "\n",
    "# info method is the object of data frame that return some information about data frame\n",
    "print(\"**********************\")\n",
    "print(dataFrame.info())"
   ]
  },
  {
   "cell_type": "markdown",
   "id": "0fdc5cc9",
   "metadata": {},
   "source": [
    "## read and print dataset"
   ]
  },
  {
   "cell_type": "code",
   "execution_count": 9,
   "id": "8cb2570c",
   "metadata": {},
   "outputs": [],
   "source": [
    "df = pd.read_csv('Data.csv')  # csv : comma separated values\n",
    "\n",
    "features = df.iloc[ : , :  -1].values\n",
    "\n",
    "target = df.iloc [ : , -1].values \n"
   ]
  },
  {
   "cell_type": "code",
   "execution_count": 10,
   "id": "2e59d829",
   "metadata": {},
   "outputs": [
    {
     "name": "stdout",
     "output_type": "stream",
     "text": [
      "The head of dataset : \n",
      "\n",
      "\n",
      "   Country   Age   Salary Purchased\n",
      "0   France  44.0  72000.0        No\n",
      "1    Spain  27.0  48000.0       Yes\n",
      "2  Germany  30.0  54000.0        No\n",
      "3    Spain  38.0  61000.0        No\n",
      "4  Germany  40.0      NaN       Yes \n",
      "\n",
      "\n",
      "the features is : \n",
      "\n",
      "  [['France' 44.0 72000.0]\n",
      " ['Spain' 27.0 48000.0]\n",
      " ['Germany' 30.0 54000.0]\n",
      " ['Spain' 38.0 61000.0]\n",
      " ['Germany' 40.0 nan]\n",
      " ['France' 35.0 58000.0]\n",
      " ['Spain' nan 52000.0]\n",
      " ['France' 48.0 79000.0]\n",
      " ['Germany' 50.0 83000.0]\n",
      " ['France' 37.0 67000.0]] \n",
      "\n",
      "\n",
      "The target is : \n",
      "\n",
      "   ['No' 'Yes' 'No' 'No' 'Yes' 'Yes' 'No' 'Yes' 'No' 'Yes']\n"
     ]
    }
   ],
   "source": [
    "# show the head of dataaset \n",
    "print(\"The head of dataset : \\n\\n\")\n",
    "print(df.head(5), \"\\n\\n\")\n",
    "# print features and target of dataset\n",
    "print(\"the features is : \\n\\n \" , features , \"\\n\\n\")\n",
    "print(\"The target is : \\n\\n  \" , target)"
   ]
  },
  {
   "cell_type": "code",
   "execution_count": 11,
   "id": "76363a74",
   "metadata": {},
   "outputs": [
    {
     "data": {
      "text/html": [
       "<div>\n",
       "<style scoped>\n",
       "    .dataframe tbody tr th:only-of-type {\n",
       "        vertical-align: middle;\n",
       "    }\n",
       "\n",
       "    .dataframe tbody tr th {\n",
       "        vertical-align: top;\n",
       "    }\n",
       "\n",
       "    .dataframe thead th {\n",
       "        text-align: right;\n",
       "    }\n",
       "</style>\n",
       "<table border=\"1\" class=\"dataframe\">\n",
       "  <thead>\n",
       "    <tr style=\"text-align: right;\">\n",
       "      <th></th>\n",
       "      <th>Country</th>\n",
       "      <th>Age</th>\n",
       "      <th>Salary</th>\n",
       "      <th>Purchased</th>\n",
       "    </tr>\n",
       "  </thead>\n",
       "  <tbody>\n",
       "    <tr>\n",
       "      <th>0</th>\n",
       "      <td>France</td>\n",
       "      <td>44.0</td>\n",
       "      <td>72000.0</td>\n",
       "      <td>No</td>\n",
       "    </tr>\n",
       "    <tr>\n",
       "      <th>1</th>\n",
       "      <td>Spain</td>\n",
       "      <td>27.0</td>\n",
       "      <td>48000.0</td>\n",
       "      <td>Yes</td>\n",
       "    </tr>\n",
       "    <tr>\n",
       "      <th>2</th>\n",
       "      <td>Germany</td>\n",
       "      <td>30.0</td>\n",
       "      <td>54000.0</td>\n",
       "      <td>No</td>\n",
       "    </tr>\n",
       "    <tr>\n",
       "      <th>3</th>\n",
       "      <td>Spain</td>\n",
       "      <td>38.0</td>\n",
       "      <td>61000.0</td>\n",
       "      <td>No</td>\n",
       "    </tr>\n",
       "    <tr>\n",
       "      <th>4</th>\n",
       "      <td>Germany</td>\n",
       "      <td>40.0</td>\n",
       "      <td>NaN</td>\n",
       "      <td>Yes</td>\n",
       "    </tr>\n",
       "    <tr>\n",
       "      <th>5</th>\n",
       "      <td>France</td>\n",
       "      <td>35.0</td>\n",
       "      <td>58000.0</td>\n",
       "      <td>Yes</td>\n",
       "    </tr>\n",
       "    <tr>\n",
       "      <th>6</th>\n",
       "      <td>Spain</td>\n",
       "      <td>NaN</td>\n",
       "      <td>52000.0</td>\n",
       "      <td>No</td>\n",
       "    </tr>\n",
       "    <tr>\n",
       "      <th>7</th>\n",
       "      <td>France</td>\n",
       "      <td>48.0</td>\n",
       "      <td>79000.0</td>\n",
       "      <td>Yes</td>\n",
       "    </tr>\n",
       "    <tr>\n",
       "      <th>8</th>\n",
       "      <td>Germany</td>\n",
       "      <td>50.0</td>\n",
       "      <td>83000.0</td>\n",
       "      <td>No</td>\n",
       "    </tr>\n",
       "    <tr>\n",
       "      <th>9</th>\n",
       "      <td>France</td>\n",
       "      <td>37.0</td>\n",
       "      <td>67000.0</td>\n",
       "      <td>Yes</td>\n",
       "    </tr>\n",
       "  </tbody>\n",
       "</table>\n",
       "</div>"
      ],
      "text/plain": [
       "   Country   Age   Salary Purchased\n",
       "0   France  44.0  72000.0        No\n",
       "1    Spain  27.0  48000.0       Yes\n",
       "2  Germany  30.0  54000.0        No\n",
       "3    Spain  38.0  61000.0        No\n",
       "4  Germany  40.0      NaN       Yes\n",
       "5   France  35.0  58000.0       Yes\n",
       "6    Spain   NaN  52000.0        No\n",
       "7   France  48.0  79000.0       Yes\n",
       "8  Germany  50.0  83000.0        No\n",
       "9   France  37.0  67000.0       Yes"
      ]
     },
     "execution_count": 11,
     "metadata": {},
     "output_type": "execute_result"
    }
   ],
   "source": [
    "df"
   ]
  },
  {
   "cell_type": "markdown",
   "id": "def91708",
   "metadata": {},
   "source": [
    "## Data cleaning"
   ]
  },
  {
   "cell_type": "markdown",
   "id": "a0ace4e9",
   "metadata": {},
   "source": [
    "### how many missing value do we have?"
   ]
  },
  {
   "cell_type": "code",
   "execution_count": 12,
   "id": "e36c0a11",
   "metadata": {},
   "outputs": [
    {
     "name": "stdout",
     "output_type": "stream",
     "text": [
      "Country      0\n",
      "Age          1\n",
      "Salary       1\n",
      "Purchased    0\n",
      "dtype: int64\n",
      "40\n",
      "2\n",
      "5.0\n"
     ]
    }
   ],
   "source": [
    "mis_show = df.isnull().sum()\n",
    "print(mis_show)\n",
    "# how many total cells do we have?\n",
    "cell_count = np.product(df.shape)\n",
    "print(cell_count)\n",
    "# how many missing values do we have?\n",
    "mis_count = mis_show.sum()\n",
    "print(mis_count)\n",
    "# the percent of missing values : \n",
    "print(100 * mis_count/cell_count)\n",
    "\n"
   ]
  },
  {
   "cell_type": "markdown",
   "id": "47ed0c41",
   "metadata": {},
   "source": [
    "### taking care of missing values"
   ]
  },
  {
   "cell_type": "markdown",
   "id": "d2fd59d1",
   "metadata": {},
   "source": [
    "#### strategy 1"
   ]
  },
  {
   "cell_type": "code",
   "execution_count": 13,
   "id": "12b049e9",
   "metadata": {},
   "outputs": [
    {
     "name": "stdout",
     "output_type": "stream",
     "text": [
      "[['France' 44.0 72000.0]\n",
      " ['Spain' 27.0 48000.0]\n",
      " ['Germany' 30.0 54000.0]\n",
      " ['Spain' 38.0 61000.0]\n",
      " ['Germany' 40.0 63777.77777777778]\n",
      " ['France' 35.0 58000.0]\n",
      " ['Spain' 38.77777777777778 52000.0]\n",
      " ['France' 48.0 79000.0]\n",
      " ['Germany' 50.0 83000.0]\n",
      " ['France' 37.0 67000.0]]\n"
     ]
    }
   ],
   "source": [
    "from sklearn.impute import SimpleImputer\n",
    "imputer = SimpleImputer(missing_values = np.nan , strategy = \"mean\")\n",
    "# imputer.fit(features[:, 1:3])\n",
    "# features[:, 1:3] = imputer.transform(features[:, 1:3])\n",
    "features[:, 1:3] = imputer.fit_transform(features[:, 1:3])\n",
    "print(features)\n"
   ]
  },
  {
   "cell_type": "markdown",
   "id": "026e3a84",
   "metadata": {},
   "source": [
    "#### strategy 2"
   ]
  },
  {
   "cell_type": "markdown",
   "id": "d804e0f7",
   "metadata": {},
   "source": [
    "##### dropna"
   ]
  },
  {
   "cell_type": "code",
   "execution_count": 14,
   "id": "ea36fd47",
   "metadata": {},
   "outputs": [
    {
     "name": "stdout",
     "output_type": "stream",
     "text": [
      "   Country   Age   Salary Purchased\n",
      "0   France  44.0  72000.0        No\n",
      "1    Spain  27.0  48000.0       Yes\n",
      "2  Germany  30.0  54000.0        No\n",
      "3    Spain  38.0  61000.0        No\n",
      "5   France  35.0  58000.0       Yes\n",
      "7   France  48.0  79000.0       Yes\n",
      "8  Germany  50.0  83000.0        No\n",
      "9   France  37.0  67000.0       Yes\n",
      "\n",
      "\n",
      "***********************\n",
      "   Country   Age   Salary Purchased\n",
      "0   France  44.0  72000.0        No\n",
      "1    Spain  27.0  48000.0       Yes\n",
      "2  Germany  30.0  54000.0        No\n",
      "3    Spain  38.0  61000.0        No\n",
      "4  Germany  40.0      NaN       Yes\n",
      "5   France  35.0  58000.0       Yes\n",
      "7   France  48.0  79000.0       Yes\n",
      "8  Germany  50.0  83000.0        No\n",
      "9   France  37.0  67000.0       Yes\n"
     ]
    },
    {
     "data": {
      "text/html": [
       "<div>\n",
       "<style scoped>\n",
       "    .dataframe tbody tr th:only-of-type {\n",
       "        vertical-align: middle;\n",
       "    }\n",
       "\n",
       "    .dataframe tbody tr th {\n",
       "        vertical-align: top;\n",
       "    }\n",
       "\n",
       "    .dataframe thead th {\n",
       "        text-align: right;\n",
       "    }\n",
       "</style>\n",
       "<table border=\"1\" class=\"dataframe\">\n",
       "  <thead>\n",
       "    <tr style=\"text-align: right;\">\n",
       "      <th></th>\n",
       "      <th>Country</th>\n",
       "      <th>Age</th>\n",
       "      <th>Salary</th>\n",
       "      <th>Purchased</th>\n",
       "    </tr>\n",
       "  </thead>\n",
       "  <tbody>\n",
       "    <tr>\n",
       "      <th>2</th>\n",
       "      <td>Germany</td>\n",
       "      <td>30.0</td>\n",
       "      <td>54000.0</td>\n",
       "      <td>No</td>\n",
       "    </tr>\n",
       "    <tr>\n",
       "      <th>3</th>\n",
       "      <td>Spain</td>\n",
       "      <td>38.0</td>\n",
       "      <td>61000.0</td>\n",
       "      <td>No</td>\n",
       "    </tr>\n",
       "    <tr>\n",
       "      <th>4</th>\n",
       "      <td>Germany</td>\n",
       "      <td>40.0</td>\n",
       "      <td>NaN</td>\n",
       "      <td>Yes</td>\n",
       "    </tr>\n",
       "    <tr>\n",
       "      <th>5</th>\n",
       "      <td>France</td>\n",
       "      <td>35.0</td>\n",
       "      <td>58000.0</td>\n",
       "      <td>Yes</td>\n",
       "    </tr>\n",
       "    <tr>\n",
       "      <th>6</th>\n",
       "      <td>Spain</td>\n",
       "      <td>NaN</td>\n",
       "      <td>52000.0</td>\n",
       "      <td>No</td>\n",
       "    </tr>\n",
       "    <tr>\n",
       "      <th>7</th>\n",
       "      <td>France</td>\n",
       "      <td>48.0</td>\n",
       "      <td>79000.0</td>\n",
       "      <td>Yes</td>\n",
       "    </tr>\n",
       "    <tr>\n",
       "      <th>8</th>\n",
       "      <td>Germany</td>\n",
       "      <td>50.0</td>\n",
       "      <td>83000.0</td>\n",
       "      <td>No</td>\n",
       "    </tr>\n",
       "    <tr>\n",
       "      <th>9</th>\n",
       "      <td>France</td>\n",
       "      <td>37.0</td>\n",
       "      <td>67000.0</td>\n",
       "      <td>Yes</td>\n",
       "    </tr>\n",
       "  </tbody>\n",
       "</table>\n",
       "</div>"
      ],
      "text/plain": [
       "   Country   Age   Salary Purchased\n",
       "2  Germany  30.0  54000.0        No\n",
       "3    Spain  38.0  61000.0        No\n",
       "4  Germany  40.0      NaN       Yes\n",
       "5   France  35.0  58000.0       Yes\n",
       "6    Spain   NaN  52000.0        No\n",
       "7   France  48.0  79000.0       Yes\n",
       "8  Germany  50.0  83000.0        No\n",
       "9   France  37.0  67000.0       Yes"
      ]
     },
     "execution_count": 14,
     "metadata": {},
     "output_type": "execute_result"
    }
   ],
   "source": [
    "# if we call the dropna : the nan rows is removing\n",
    "print(df.dropna())\n",
    "# df.dropna(inplace = True) --> this removing has be called by reference and the new df be replaced by previous\n",
    "print(\"\\n\\n***********************\")\n",
    "# dropna a specific culomns \n",
    "print(df.dropna(subset = 'Age' , inplace = False))\n",
    "# drop a specifics rows of the data frame by drop method\n",
    "df.drop([0 , 1])"
   ]
  },
  {
   "cell_type": "markdown",
   "id": "46417bfa",
   "metadata": {},
   "source": [
    "##### fillna"
   ]
  },
  {
   "cell_type": "markdown",
   "id": "2e0db64e",
   "metadata": {},
   "source": [
    "###### fill wherever"
   ]
  },
  {
   "cell_type": "code",
   "execution_count": 15,
   "id": "13c26fcc",
   "metadata": {},
   "outputs": [
    {
     "name": "stdout",
     "output_type": "stream",
     "text": [
      "   Country   Age   Salary Purchased\n",
      "0   France  44.0  72000.0        No\n",
      "1    Spain  27.0  48000.0       Yes\n",
      "2  Germany  30.0  54000.0        No\n",
      "3    Spain  38.0  61000.0        No\n",
      "4  Germany  40.0     22.0       Yes\n",
      "5   France  35.0  58000.0       Yes\n",
      "6    Spain  22.0  52000.0        No\n",
      "7   France  48.0  79000.0       Yes\n",
      "8  Germany  50.0  83000.0        No\n",
      "9   France  37.0  67000.0       Yes\n"
     ]
    }
   ],
   "source": [
    "# we can call the filna , to fill the nan cells by : \n",
    "# 1 _ a specific value\n",
    "# 2_ mean , mode , median \n",
    "# (1)\n",
    "print(df.fillna(22 , inplace = False))"
   ]
  },
  {
   "cell_type": "code",
   "execution_count": 16,
   "id": "3ad192b7",
   "metadata": {},
   "outputs": [
    {
     "name": "stdout",
     "output_type": "stream",
     "text": [
      "mean is : 38.77777777777778\n",
      "   Country        Age        Salary Purchased\n",
      "0   France  44.000000  72000.000000        No\n",
      "1    Spain  27.000000  48000.000000       Yes\n",
      "2  Germany  30.000000  54000.000000        No\n",
      "3    Spain  38.000000  61000.000000        No\n",
      "4  Germany  40.000000     38.777778       Yes\n",
      "5   France  35.000000  58000.000000       Yes\n",
      "6    Spain  38.777778  52000.000000        No\n",
      "7   France  48.000000  79000.000000       Yes\n",
      "8  Germany  50.000000  83000.000000        No\n",
      "9   France  37.000000  67000.000000       Yes\n",
      "\n",
      "\n",
      "************************\n",
      "\n",
      "\n",
      "the median is : 38.0\n",
      "   Country   Age   Salary Purchased\n",
      "0   France  44.0  72000.0        No\n",
      "1    Spain  27.0  48000.0       Yes\n",
      "2  Germany  30.0  54000.0        No\n",
      "3    Spain  38.0  61000.0        No\n",
      "4  Germany  40.0     38.0       Yes\n",
      "5   France  35.0  58000.0       Yes\n",
      "6    Spain  38.0  52000.0        No\n",
      "7   France  48.0  79000.0       Yes\n",
      "8  Germany  50.0  83000.0        No\n",
      "9   France  37.0  67000.0       Yes\n",
      "\n",
      "\n",
      "************************\n",
      "\n",
      "\n",
      "The mode is :  27.0\n",
      "   Country   Age   Salary Purchased\n",
      "0   France  44.0  72000.0        No\n",
      "1    Spain  27.0  48000.0       Yes\n",
      "2  Germany  30.0  54000.0        No\n",
      "3    Spain  38.0  61000.0        No\n",
      "4  Germany  40.0     27.0       Yes\n",
      "5   France  35.0  58000.0       Yes\n",
      "6    Spain  27.0  52000.0        No\n",
      "7   France  48.0  79000.0       Yes\n",
      "8  Germany  50.0  83000.0        No\n",
      "9   France  37.0  67000.0       Yes\n"
     ]
    }
   ],
   "source": [
    "# (2)\n",
    "mean = df['Age'].mean()\n",
    "print(\"mean is :\",  mean)\n",
    "print(df.fillna(mean , inplace = False))\n",
    "print(\"\\n\\n************************\\n\\n\")\n",
    "\n",
    "median = df['Age'].median()\n",
    "print(\"the median is :\" , median)\n",
    "print(df.fillna(median , inplace = False))\n",
    "print(\"\\n\\n************************\\n\\n\")\n",
    "\n",
    "\n",
    "mode = df['Age'].mode()[0] # the [0] means if we dont have mode , the minimum value of ages is place as mode . if we hade wrote[1] then , the second minimum value hade be placed as the mode .\n",
    "print(\"The mode is : \"  , mode)\n",
    "print(df.fillna(mode , inplace = False))\n",
    "\n"
   ]
  },
  {
   "cell_type": "markdown",
   "id": "49ff549a",
   "metadata": {},
   "source": [
    "###### fill the specific columns "
   ]
  },
  {
   "cell_type": "code",
   "execution_count": 17,
   "id": "f8ac7b7e",
   "metadata": {},
   "outputs": [
    {
     "name": "stdout",
     "output_type": "stream",
     "text": [
      "The mean of the salaries is :  63777.77777777778\n",
      "0    72000.000000\n",
      "1    48000.000000\n",
      "2    54000.000000\n",
      "3    61000.000000\n",
      "4    63777.777778\n",
      "5    58000.000000\n",
      "6    52000.000000\n",
      "7    79000.000000\n",
      "8    83000.000000\n",
      "9    67000.000000\n",
      "Name: Salary, dtype: float64\n"
     ]
    }
   ],
   "source": [
    "mean = df['Salary'].mean()\n",
    "print(\"The mean of the salaries is : \" , mean)\n",
    "print(df['Salary'].fillna(mean , inplace = False))\n"
   ]
  },
  {
   "cell_type": "markdown",
   "id": "c8f3db05",
   "metadata": {},
   "source": [
    "#### Duplicate rows"
   ]
  },
  {
   "cell_type": "code",
   "execution_count": 18,
   "id": "30132845",
   "metadata": {
    "code_folding": []
   },
   "outputs": [
    {
     "name": "stdout",
     "output_type": "stream",
     "text": [
      "0    False\n",
      "1    False\n",
      "2    False\n",
      "3    False\n",
      "4    False\n",
      "5    False\n",
      "6    False\n",
      "7    False\n",
      "8    False\n",
      "9    False\n",
      "dtype: bool\n",
      "\n",
      "\n",
      "*********************\n"
     ]
    },
    {
     "data": {
      "text/html": [
       "<div>\n",
       "<style scoped>\n",
       "    .dataframe tbody tr th:only-of-type {\n",
       "        vertical-align: middle;\n",
       "    }\n",
       "\n",
       "    .dataframe tbody tr th {\n",
       "        vertical-align: top;\n",
       "    }\n",
       "\n",
       "    .dataframe thead th {\n",
       "        text-align: right;\n",
       "    }\n",
       "</style>\n",
       "<table border=\"1\" class=\"dataframe\">\n",
       "  <thead>\n",
       "    <tr style=\"text-align: right;\">\n",
       "      <th></th>\n",
       "      <th>Country</th>\n",
       "      <th>Age</th>\n",
       "      <th>Salary</th>\n",
       "      <th>Purchased</th>\n",
       "    </tr>\n",
       "  </thead>\n",
       "  <tbody>\n",
       "    <tr>\n",
       "      <th>0</th>\n",
       "      <td>France</td>\n",
       "      <td>44.0</td>\n",
       "      <td>72000.0</td>\n",
       "      <td>No</td>\n",
       "    </tr>\n",
       "    <tr>\n",
       "      <th>1</th>\n",
       "      <td>Spain</td>\n",
       "      <td>27.0</td>\n",
       "      <td>48000.0</td>\n",
       "      <td>Yes</td>\n",
       "    </tr>\n",
       "    <tr>\n",
       "      <th>2</th>\n",
       "      <td>Germany</td>\n",
       "      <td>30.0</td>\n",
       "      <td>54000.0</td>\n",
       "      <td>No</td>\n",
       "    </tr>\n",
       "    <tr>\n",
       "      <th>3</th>\n",
       "      <td>Spain</td>\n",
       "      <td>38.0</td>\n",
       "      <td>61000.0</td>\n",
       "      <td>No</td>\n",
       "    </tr>\n",
       "    <tr>\n",
       "      <th>4</th>\n",
       "      <td>Germany</td>\n",
       "      <td>40.0</td>\n",
       "      <td>NaN</td>\n",
       "      <td>Yes</td>\n",
       "    </tr>\n",
       "    <tr>\n",
       "      <th>5</th>\n",
       "      <td>France</td>\n",
       "      <td>35.0</td>\n",
       "      <td>58000.0</td>\n",
       "      <td>Yes</td>\n",
       "    </tr>\n",
       "    <tr>\n",
       "      <th>6</th>\n",
       "      <td>Spain</td>\n",
       "      <td>NaN</td>\n",
       "      <td>52000.0</td>\n",
       "      <td>No</td>\n",
       "    </tr>\n",
       "    <tr>\n",
       "      <th>7</th>\n",
       "      <td>France</td>\n",
       "      <td>48.0</td>\n",
       "      <td>79000.0</td>\n",
       "      <td>Yes</td>\n",
       "    </tr>\n",
       "    <tr>\n",
       "      <th>8</th>\n",
       "      <td>Germany</td>\n",
       "      <td>50.0</td>\n",
       "      <td>83000.0</td>\n",
       "      <td>No</td>\n",
       "    </tr>\n",
       "    <tr>\n",
       "      <th>9</th>\n",
       "      <td>France</td>\n",
       "      <td>37.0</td>\n",
       "      <td>67000.0</td>\n",
       "      <td>Yes</td>\n",
       "    </tr>\n",
       "  </tbody>\n",
       "</table>\n",
       "</div>"
      ],
      "text/plain": [
       "   Country   Age   Salary Purchased\n",
       "0   France  44.0  72000.0        No\n",
       "1    Spain  27.0  48000.0       Yes\n",
       "2  Germany  30.0  54000.0        No\n",
       "3    Spain  38.0  61000.0        No\n",
       "4  Germany  40.0      NaN       Yes\n",
       "5   France  35.0  58000.0       Yes\n",
       "6    Spain   NaN  52000.0        No\n",
       "7   France  48.0  79000.0       Yes\n",
       "8  Germany  50.0  83000.0        No\n",
       "9   France  37.0  67000.0       Yes"
      ]
     },
     "execution_count": 18,
     "metadata": {},
     "output_type": "execute_result"
    }
   ],
   "source": [
    "# the duplicate methode tell us that wich rows duplicate (write more than one time)\n",
    "print(df.duplicated())\n",
    "print(\"\\n\\n*********************\")\n",
    "# if we wanna to remove a duplicate row we should be use drop_duplicates method.\n",
    "(df.drop_duplicates(inplace = False))"
   ]
  },
  {
   "cell_type": "markdown",
   "id": "c5afcf5a",
   "metadata": {},
   "source": [
    "#### Correlation"
   ]
  },
  {
   "cell_type": "code",
   "execution_count": 19,
   "id": "77e16722",
   "metadata": {},
   "outputs": [
    {
     "data": {
      "text/html": [
       "<div>\n",
       "<style scoped>\n",
       "    .dataframe tbody tr th:only-of-type {\n",
       "        vertical-align: middle;\n",
       "    }\n",
       "\n",
       "    .dataframe tbody tr th {\n",
       "        vertical-align: top;\n",
       "    }\n",
       "\n",
       "    .dataframe thead th {\n",
       "        text-align: right;\n",
       "    }\n",
       "</style>\n",
       "<table border=\"1\" class=\"dataframe\">\n",
       "  <thead>\n",
       "    <tr style=\"text-align: right;\">\n",
       "      <th></th>\n",
       "      <th>Age</th>\n",
       "      <th>Salary</th>\n",
       "    </tr>\n",
       "  </thead>\n",
       "  <tbody>\n",
       "    <tr>\n",
       "      <th>Age</th>\n",
       "      <td>1.000000</td>\n",
       "      <td>0.982495</td>\n",
       "    </tr>\n",
       "    <tr>\n",
       "      <th>Salary</th>\n",
       "      <td>0.982495</td>\n",
       "      <td>1.000000</td>\n",
       "    </tr>\n",
       "  </tbody>\n",
       "</table>\n",
       "</div>"
      ],
      "text/plain": [
       "             Age    Salary\n",
       "Age     1.000000  0.982495\n",
       "Salary  0.982495  1.000000"
      ]
     },
     "execution_count": 19,
     "metadata": {},
     "output_type": "execute_result"
    }
   ],
   "source": [
    "# The correlation method return us a table . that has numbers between 1 and -1\n",
    "# The 1 and -1 means perfect correlation. \n",
    "# The 0 is the worst correlation.\n",
    "# around 0.6 and -0.6 means good correlation .\n",
    "df.corr()"
   ]
  },
  {
   "cell_type": "code",
   "execution_count": 20,
   "id": "1b757765",
   "metadata": {
    "scrolled": false
   },
   "outputs": [
    {
     "data": {
      "image/png": "[encoded data removed]",
      "text/plain": [
       "<Figure size 432x288 with 1 Axes>"
      ]
     },
     "metadata": {
      "needs_background": "light"
     },
     "output_type": "display_data"
    }
   ],
   "source": [
    "df.plot()\n",
    "plt.show()"
   ]
  },
  {
   "cell_type": "code",
   "execution_count": 21,
   "id": "2e73ba15",
   "metadata": {},
   "outputs": [
    {
     "data": {
      "image/png": "[encoded data removed]",
      "text/plain": [
       "<Figure size 432x288 with 2 Axes>"
      ]
     },
     "metadata": {
      "needs_background": "light"
     },
     "output_type": "display_data"
    }
   ],
   "source": [
    "cdf = df[['Age' , 'Salary']]\n",
    "cdf.hist()\n",
    "plt.show()"
   ]
  },
  {
   "cell_type": "code",
   "execution_count": 22,
   "id": "0c9e6f18",
   "metadata": {},
   "outputs": [
    {
     "data": {
      "image/png": "[encoded data removed]",
      "text/plain": [
       "<Figure size 432x288 with 1 Axes>"
      ]
     },
     "metadata": {
      "needs_background": "light"
     },
     "output_type": "display_data"
    }
   ],
   "source": [
    "plt.scatter(cdf.Age , cdf.Salary , color = 'green')\n",
    "plt.xlabel = ('Age')\n",
    "plt.ylabel = ('Salary')\n",
    "plt.show()\n",
    "\n"
   ]
  },
  {
   "cell_type": "markdown",
   "id": "ffd45d6d",
   "metadata": {},
   "source": [
    "## Categorical data encoding"
   ]
  },
  {
   "cell_type": "markdown",
   "id": "ee20b7d7",
   "metadata": {},
   "source": [
    "### one hot encoding (nominal)"
   ]
  },
  {
   "cell_type": "code",
   "execution_count": 23,
   "id": "6044e4a1",
   "metadata": {},
   "outputs": [
    {
     "name": "stdout",
     "output_type": "stream",
     "text": [
      "[[1.0 0.0 0.0 44.0 72000.0]\n",
      " [0.0 0.0 1.0 27.0 48000.0]\n",
      " [0.0 1.0 0.0 30.0 54000.0]\n",
      " [0.0 0.0 1.0 38.0 61000.0]\n",
      " [0.0 1.0 0.0 40.0 63777.77777777778]\n",
      " [1.0 0.0 0.0 35.0 58000.0]\n",
      " [0.0 0.0 1.0 38.77777777777778 52000.0]\n",
      " [1.0 0.0 0.0 48.0 79000.0]\n",
      " [0.0 1.0 0.0 50.0 83000.0]\n",
      " [1.0 0.0 0.0 37.0 67000.0]]\n"
     ]
    }
   ],
   "source": [
    "from sklearn.compose import ColumnTransformer\n",
    "from sklearn.preprocessing import OneHotEncoder\n",
    "ct = ColumnTransformer(transformers=[('encoder' , OneHotEncoder() , [0])] , remainder='passthrough')  \n",
    "features = np.array(ct.fit_transform(features))\n",
    "print(features)"
   ]
  },
  {
   "cell_type": "markdown",
   "id": "fce4e880",
   "metadata": {},
   "source": [
    "### ordinal encoding"
   ]
  },
  {
   "cell_type": "code",
   "execution_count": 24,
   "id": "6c0f6d19",
   "metadata": {},
   "outputs": [
    {
     "name": "stdout",
     "output_type": "stream",
     "text": [
      "    degree   class   age\n",
      "0     good   first     7\n",
      "1   median  second     8\n",
      "2      bad   first     6\n"
     ]
    },
    {
     "data": {
      "text/html": [
       "<div>\n",
       "<style scoped>\n",
       "    .dataframe tbody tr th:only-of-type {\n",
       "        vertical-align: middle;\n",
       "    }\n",
       "\n",
       "    .dataframe tbody tr th {\n",
       "        vertical-align: top;\n",
       "    }\n",
       "\n",
       "    .dataframe thead th {\n",
       "        text-align: right;\n",
       "    }\n",
       "</style>\n",
       "<table border=\"1\" class=\"dataframe\">\n",
       "  <thead>\n",
       "    <tr style=\"text-align: right;\">\n",
       "      <th></th>\n",
       "      <th>degree</th>\n",
       "      <th>class</th>\n",
       "      <th>age</th>\n",
       "    </tr>\n",
       "  </thead>\n",
       "  <tbody>\n",
       "    <tr>\n",
       "      <th>0</th>\n",
       "      <td>2.0</td>\n",
       "      <td>0.0</td>\n",
       "      <td>7</td>\n",
       "    </tr>\n",
       "    <tr>\n",
       "      <th>1</th>\n",
       "      <td>0.0</td>\n",
       "      <td>1.0</td>\n",
       "      <td>8</td>\n",
       "    </tr>\n",
       "    <tr>\n",
       "      <th>2</th>\n",
       "      <td>1.0</td>\n",
       "      <td>0.0</td>\n",
       "      <td>6</td>\n",
       "    </tr>\n",
       "  </tbody>\n",
       "</table>\n",
       "</div>"
      ],
      "text/plain": [
       "   degree  class   age\n",
       "0     2.0    0.0     7\n",
       "1     0.0    1.0     8\n",
       "2     1.0    0.0     6"
      ]
     },
     "execution_count": 24,
     "metadata": {},
     "output_type": "execute_result"
    }
   ],
   "source": [
    "from sklearn.preprocessing import OrdinalEncoder\n",
    "dataset = {\n",
    "    'degree' : ['good' , ' median' , 'bad'] ,\n",
    "    'class' : ['first' ,  'second' , 'first'] ,\n",
    "    ' age' : [7 , 8 , 6]   \n",
    "}\n",
    "dataset = pd.DataFrame(dataset)\n",
    "print(dataset)\n",
    "oe = OrdinalEncoder()\n",
    "dataset[['degree' , 'class']] = oe.fit_transform(dataset[['degree' , 'class']])\n",
    "dataset\n",
    "\n"
   ]
  },
  {
   "cell_type": "markdown",
   "id": "ee256b4b",
   "metadata": {},
   "source": [
    "### label encoding"
   ]
  },
  {
   "cell_type": "code",
   "execution_count": 25,
   "id": "810acd54",
   "metadata": {},
   "outputs": [
    {
     "name": "stdout",
     "output_type": "stream",
     "text": [
      "[0 1 0 0 1 1 0 1 0 1]\n"
     ]
    }
   ],
   "source": [
    "from sklearn.preprocessing import LabelEncoder\n",
    "from sklearn.preprocessing import OrdinalEncoder\n",
    "le = LabelEncoder()\n",
    "oe = OrdinalEncoder()\n",
    "target = le.fit_transform(target)\n",
    "# target = oe.fit_transform(target)\n",
    "print(target)"
   ]
  },
  {
   "cell_type": "markdown",
   "id": "22ef42a1",
   "metadata": {},
   "source": [
    "## split Train and Test"
   ]
  },
  {
   "cell_type": "markdown",
   "id": "1ba6bf90",
   "metadata": {},
   "source": [
    "explain:\n",
    "in this case , we split our data into two separate part . ( train and test )\n",
    "the order of define train and test variables and pass parameters is important .\n",
    "we initial the train size by a float number ( between 0.0 , 1.0) or explicitly pass the integer numbers.\n",
    "random state is importnt because if this parameter is empty ( null by dafault) , each time we run the cell , we see different answers .\n",
    "for this reason , we equal the random state to an integer number(not important) to see just one answer each time .\n",
    "stratify is very important parameter . it is divide equally the targets between train and test targets ."
   ]
  },
  {
   "cell_type": "code",
   "execution_count": 26,
   "id": "603e4207",
   "metadata": {},
   "outputs": [
    {
     "name": "stdout",
     "output_type": "stream",
     "text": [
      "x train \n",
      "\n",
      " [[1.0 0.0 0.0 35.0 58000.0]\n",
      " [1.0 0.0 0.0 37.0 67000.0]\n",
      " [0.0 1.0 0.0 50.0 83000.0]\n",
      " [1.0 0.0 0.0 44.0 72000.0]\n",
      " [1.0 0.0 0.0 48.0 79000.0]\n",
      " [0.0 1.0 0.0 40.0 63777.77777777778]\n",
      " [0.0 1.0 0.0 30.0 54000.0]\n",
      " [0.0 0.0 1.0 38.77777777777778 52000.0]] \n",
      "\n",
      "####################################\n",
      "\n",
      " x test\n",
      "\n",
      " [[0.0 0.0 1.0 27.0 48000.0]\n",
      " [0.0 0.0 1.0 38.0 61000.0]] \n",
      "\n",
      "########################################\n",
      "\n",
      " y train\n",
      "\n",
      "  [1 1 0 0 1 1 0 0] \n",
      "\n",
      "##########################################\n",
      "\n",
      " y_test\n",
      "\n",
      " [1 0]\n"
     ]
    }
   ],
   "source": [
    "from sklearn.model_selection import train_test_split\n",
    "x_train , x_test , y_train , y_test = train_test_split(features , target , train_size = 0.8  , random_state=4 , shuffle=True  , stratify=target  ) \n",
    "print(\"x train \\n\\n\" , x_train , \"\\n\\n####################################\")\n",
    "print(\"\\n x test\\n\\n\" , x_test , \"\\n\\n########################################\")\n",
    "print(\"\\n y train\\n\\n \" , y_train ,  \"\\n\\n##########################################\")\n",
    "print(\"\\n y_test\\n\\n\" , y_test)"
   ]
  },
  {
   "cell_type": "markdown",
   "id": "f6fd7f75",
   "metadata": {},
   "source": [
    "## Feature scaling"
   ]
  },
  {
   "cell_type": "markdown",
   "id": "4eeddc01",
   "metadata": {},
   "source": [
    "note : we use the feature scaling just for none dummy culomns . because the dummy culomns , already scaling in right model .\n",
    "dummies : just the one hot encoder procces ."
   ]
  },
  {
   "cell_type": "markdown",
   "id": "8bf614a4",
   "metadata": {},
   "source": [
    "### Normalization ( Min _ Max scaling)"
   ]
  },
  {
   "cell_type": "markdown",
   "id": "1935b018",
   "metadata": {},
   "source": [
    "<img src=\"normalize.webp\" />"
   ]
  },
  {
   "cell_type": "markdown",
   "id": "fb22e0d1",
   "metadata": {},
   "source": [
    "Used in KNN and Neural Network"
   ]
  },
  {
   "cell_type": "code",
   "execution_count": 27,
   "id": "08c844f8",
   "metadata": {},
   "outputs": [
    {
     "name": "stdout",
     "output_type": "stream",
     "text": [
      "[[1.0 0.0 0.0 0.25 0.19354838709677424]\n",
      " [1.0 0.0 0.0 0.3500000000000001 0.4838709677419357]\n",
      " [0.0 1.0 0.0 1.0 1.0000000000000002]\n",
      " [1.0 0.0 0.0 0.7000000000000002 0.6451612903225807]\n",
      " [1.0 0.0 0.0 0.9000000000000004 0.8709677419354838]\n",
      " [0.0 1.0 0.0 0.5 0.3799283154121864]\n",
      " [0.0 1.0 0.0 0.0 0.06451612903225801]\n",
      " [0.0 0.0 1.0 0.4388888888888891 0.0]]\n",
      "\n",
      "#########################################\n",
      "\n",
      "[[0.0 0.0 1.0 -0.1499999999999999 -0.12903225806451624]\n",
      " [0.0 0.0 1.0 0.40000000000000013 0.29032258064516125]]\n"
     ]
    }
   ],
   "source": [
    "from sklearn.preprocessing import MinMaxScaler\n",
    "norm = MinMaxScaler()\n",
    "x_train[ :  , 3: ] = norm.fit_transform(x_train[ : , 3: ]) # note : fit and transform .\n",
    "x_test [ : , 3 :] = norm.transform(x_test[ :  , 3:]) # note : just transform . not fit and transform . \n",
    "print(x_train)\n",
    "print(\"\\n#########################################\\n\")\n",
    "print(x_test)"
   ]
  },
  {
   "cell_type": "markdown",
   "id": "01796864",
   "metadata": {},
   "source": [
    "### Standardization ( Standard scaling)"
   ]
  },
  {
   "cell_type": "markdown",
   "id": "72172b5b",
   "metadata": {},
   "source": [
    "Used whrer the data follows Gaussian distribution ( more use )"
   ]
  },
  {
   "cell_type": "markdown",
   "id": "081f29c1",
   "metadata": {},
   "source": [
    "<img src=\"standardize.gif\" />"
   ]
  },
  {
   "cell_type": "code",
   "execution_count": 28,
   "id": "45286ed0",
   "metadata": {},
   "outputs": [
    {
     "name": "stdout",
     "output_type": "stream",
     "text": [
      "[[1.0 0.0 0.0 -0.8527910972767799 -0.7617804632935421]\n",
      " [1.0 0.0 0.0 -0.5338250764771529 0.08493264170511224]\n",
      " [0.0 1.0 0.0 1.5394540587204204 1.590200383924941]\n",
      " [1.0 0.0 0.0 0.5825559963215409 0.5553288111488084]\n",
      " [1.0 0.0 0.0 1.2204880379207947 1.213883448369983]\n",
      " [0.0 1.0 0.0 -0.05537604527771313 -0.21821155638082612]\n",
      " [0.0 1.0 0.0 -1.6502061492758466 -1.1380973988484997]\n",
      " [0.0 0.0 1.0 -0.25029972465526207 -1.326255866625978]]\n",
      "\n",
      "#########################################\n",
      "\n",
      "[[0.0 0.0 1.0 -2.1286551804752865 -1.7025728021809357]\n",
      " [0.0 0.0 1.0 -0.3743420660773394 -0.4795427616273244]]\n"
     ]
    }
   ],
   "source": [
    "from sklearn.preprocessing import StandardScaler\n",
    "ssc = StandardScaler()\n",
    "x_train[ :  , 3:] = ssc.fit_transform(x_train[ :  , 3 :]) # note : fit and transform .\n",
    "x_test[ :  , 3 :] = ssc.transform(x_test[ :  , 3:]) # note : just transform . not fit and transform . \n",
    "print(x_train)\n",
    "print(\"\\n#########################################\\n\")\n",
    "print(x_test)"
   ]
  }
 ],
 "metadata": {
  "kernelspec": {
   "display_name": "Python 3 (ipykernel)",
   "language": "python",
   "name": "python3"
  },
  "language_info": {
   "codemirror_mode": {
    "name": "ipython",
    "version": 3
   },
   "file_extension": ".py",
   "mimetype": "text/x-python",
   "name": "python",
   "nbconvert_exporter": "python",
   "pygments_lexer": "ipython3",
   "version": "3.10.5"
  }
 },
 "nbformat": 4,
 "nbformat_minor": 5
}
